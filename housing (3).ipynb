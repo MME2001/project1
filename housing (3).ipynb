{
 "cells": [
  {
   "cell_type": "code",
   "execution_count": 2,
   "id": "70cf9a3a-38b7-4d9f-9f8c-5ab8b3fb73f1",
   "metadata": {},
   "outputs": [],
   "source": [
    "# this data talks about the house and how many  person in every  house and how much  the income in  every house and the value of the house"
   ]
  },
  {
   "cell_type": "code",
   "execution_count": null,
   "id": "856e4b6d-b3b6-44d3-9ad6-994145ae5cb1",
   "metadata": {},
   "outputs": [],
   "source": []
  },
  {
   "cell_type": "code",
   "execution_count": 1,
   "id": "cad46c20-7ca4-46c9-abe0-a55c2faffd5f",
   "metadata": {},
   "outputs": [],
   "source": [
    "import pandas as pd "
   ]
  },
  {
   "cell_type": "code",
   "execution_count": 2,
   "id": "f8813a5e-0f3b-485a-a163-3f061a30d9fc",
   "metadata": {},
   "outputs": [],
   "source": [
    "df=pd.read_csv(\"housing.csv\")"
   ]
  },
  {
   "cell_type": "code",
   "execution_count": 3,
   "id": "90f910c8-913a-448b-8efb-214a3b6fcc72",
   "metadata": {},
   "outputs": [
    {
     "data": {
      "text/html": [
       "<div>\n",
       "<style scoped>\n",
       "    .dataframe tbody tr th:only-of-type {\n",
       "        vertical-align: middle;\n",
       "    }\n",
       "\n",
       "    .dataframe tbody tr th {\n",
       "        vertical-align: top;\n",
       "    }\n",
       "\n",
       "    .dataframe thead th {\n",
       "        text-align: right;\n",
       "    }\n",
       "</style>\n",
       "<table border=\"1\" class=\"dataframe\">\n",
       "  <thead>\n",
       "    <tr style=\"text-align: right;\">\n",
       "      <th></th>\n",
       "      <th>longitude</th>\n",
       "      <th>latitude</th>\n",
       "      <th>housing_median_age</th>\n",
       "      <th>total_rooms</th>\n",
       "      <th>total_bedrooms</th>\n",
       "      <th>population</th>\n",
       "      <th>households</th>\n",
       "      <th>median_income</th>\n",
       "      <th>median_house_value</th>\n",
       "      <th>ocean_proximity</th>\n",
       "    </tr>\n",
       "  </thead>\n",
       "  <tbody>\n",
       "    <tr>\n",
       "      <th>0</th>\n",
       "      <td>-122.23</td>\n",
       "      <td>37.88</td>\n",
       "      <td>41.0</td>\n",
       "      <td>880.0</td>\n",
       "      <td>129.0</td>\n",
       "      <td>322.0</td>\n",
       "      <td>126.0</td>\n",
       "      <td>8.3252</td>\n",
       "      <td>452600.0</td>\n",
       "      <td>NEAR BAY</td>\n",
       "    </tr>\n",
       "    <tr>\n",
       "      <th>1</th>\n",
       "      <td>-122.22</td>\n",
       "      <td>37.86</td>\n",
       "      <td>21.0</td>\n",
       "      <td>7099.0</td>\n",
       "      <td>1106.0</td>\n",
       "      <td>2401.0</td>\n",
       "      <td>1138.0</td>\n",
       "      <td>8.3014</td>\n",
       "      <td>358500.0</td>\n",
       "      <td>NEAR BAY</td>\n",
       "    </tr>\n",
       "    <tr>\n",
       "      <th>2</th>\n",
       "      <td>-122.24</td>\n",
       "      <td>37.85</td>\n",
       "      <td>52.0</td>\n",
       "      <td>1467.0</td>\n",
       "      <td>190.0</td>\n",
       "      <td>496.0</td>\n",
       "      <td>177.0</td>\n",
       "      <td>7.2574</td>\n",
       "      <td>352100.0</td>\n",
       "      <td>NEAR BAY</td>\n",
       "    </tr>\n",
       "    <tr>\n",
       "      <th>3</th>\n",
       "      <td>-122.25</td>\n",
       "      <td>37.85</td>\n",
       "      <td>52.0</td>\n",
       "      <td>1274.0</td>\n",
       "      <td>235.0</td>\n",
       "      <td>558.0</td>\n",
       "      <td>219.0</td>\n",
       "      <td>5.6431</td>\n",
       "      <td>341300.0</td>\n",
       "      <td>NEAR BAY</td>\n",
       "    </tr>\n",
       "    <tr>\n",
       "      <th>4</th>\n",
       "      <td>-122.25</td>\n",
       "      <td>37.85</td>\n",
       "      <td>52.0</td>\n",
       "      <td>1627.0</td>\n",
       "      <td>280.0</td>\n",
       "      <td>565.0</td>\n",
       "      <td>259.0</td>\n",
       "      <td>3.8462</td>\n",
       "      <td>342200.0</td>\n",
       "      <td>NEAR BAY</td>\n",
       "    </tr>\n",
       "  </tbody>\n",
       "</table>\n",
       "</div>"
      ],
      "text/plain": [
       "   longitude  latitude  housing_median_age  total_rooms  total_bedrooms  \\\n",
       "0    -122.23     37.88                41.0        880.0           129.0   \n",
       "1    -122.22     37.86                21.0       7099.0          1106.0   \n",
       "2    -122.24     37.85                52.0       1467.0           190.0   \n",
       "3    -122.25     37.85                52.0       1274.0           235.0   \n",
       "4    -122.25     37.85                52.0       1627.0           280.0   \n",
       "\n",
       "   population  households  median_income  median_house_value ocean_proximity  \n",
       "0       322.0       126.0         8.3252            452600.0        NEAR BAY  \n",
       "1      2401.0      1138.0         8.3014            358500.0        NEAR BAY  \n",
       "2       496.0       177.0         7.2574            352100.0        NEAR BAY  \n",
       "3       558.0       219.0         5.6431            341300.0        NEAR BAY  \n",
       "4       565.0       259.0         3.8462            342200.0        NEAR BAY  "
      ]
     },
     "execution_count": 3,
     "metadata": {},
     "output_type": "execute_result"
    }
   ],
   "source": [
    "df.head()"
   ]
  },
  {
   "cell_type": "code",
   "execution_count": 4,
   "id": "a54762c6-3b42-49e8-8622-c30efa09c84f",
   "metadata": {},
   "outputs": [
    {
     "name": "stdout",
     "output_type": "stream",
     "text": [
      "<class 'pandas.core.frame.DataFrame'>\n",
      "RangeIndex: 20640 entries, 0 to 20639\n",
      "Data columns (total 10 columns):\n",
      " #   Column              Non-Null Count  Dtype  \n",
      "---  ------              --------------  -----  \n",
      " 0   longitude           20640 non-null  float64\n",
      " 1   latitude            20640 non-null  float64\n",
      " 2   housing_median_age  20640 non-null  float64\n",
      " 3   total_rooms         20640 non-null  float64\n",
      " 4   total_bedrooms      20433 non-null  float64\n",
      " 5   population          20640 non-null  float64\n",
      " 6   households          20640 non-null  float64\n",
      " 7   median_income       20640 non-null  float64\n",
      " 8   median_house_value  20640 non-null  float64\n",
      " 9   ocean_proximity     20640 non-null  object \n",
      "dtypes: float64(9), object(1)\n",
      "memory usage: 1.6+ MB\n"
     ]
    }
   ],
   "source": [
    "df.info()"
   ]
  },
  {
   "cell_type": "code",
   "execution_count": 5,
   "id": "39e8ac1c-689d-4488-b2da-f3566fcfa495",
   "metadata": {},
   "outputs": [
    {
     "data": {
      "text/plain": [
       "longitude               0\n",
       "latitude                0\n",
       "housing_median_age      0\n",
       "total_rooms             0\n",
       "total_bedrooms        207\n",
       "population              0\n",
       "households              0\n",
       "median_income           0\n",
       "median_house_value      0\n",
       "ocean_proximity         0\n",
       "dtype: int64"
      ]
     },
     "execution_count": 5,
     "metadata": {},
     "output_type": "execute_result"
    }
   ],
   "source": [
    "df.isna().sum()"
   ]
  },
  {
   "cell_type": "code",
   "execution_count": 6,
   "id": "9eec24d4-048e-4b13-b201-3ea4274b0d1d",
   "metadata": {},
   "outputs": [
    {
     "data": {
      "text/html": [
       "<div>\n",
       "<style scoped>\n",
       "    .dataframe tbody tr th:only-of-type {\n",
       "        vertical-align: middle;\n",
       "    }\n",
       "\n",
       "    .dataframe tbody tr th {\n",
       "        vertical-align: top;\n",
       "    }\n",
       "\n",
       "    .dataframe thead th {\n",
       "        text-align: right;\n",
       "    }\n",
       "</style>\n",
       "<table border=\"1\" class=\"dataframe\">\n",
       "  <thead>\n",
       "    <tr style=\"text-align: right;\">\n",
       "      <th></th>\n",
       "      <th>longitude</th>\n",
       "      <th>latitude</th>\n",
       "      <th>housing_median_age</th>\n",
       "      <th>total_rooms</th>\n",
       "      <th>total_bedrooms</th>\n",
       "      <th>population</th>\n",
       "      <th>households</th>\n",
       "      <th>median_income</th>\n",
       "      <th>median_house_value</th>\n",
       "    </tr>\n",
       "  </thead>\n",
       "  <tbody>\n",
       "    <tr>\n",
       "      <th>count</th>\n",
       "      <td>20640.000000</td>\n",
       "      <td>20640.000000</td>\n",
       "      <td>20640.000000</td>\n",
       "      <td>20640.000000</td>\n",
       "      <td>20433.000000</td>\n",
       "      <td>20640.000000</td>\n",
       "      <td>20640.000000</td>\n",
       "      <td>20640.000000</td>\n",
       "      <td>20640.000000</td>\n",
       "    </tr>\n",
       "    <tr>\n",
       "      <th>mean</th>\n",
       "      <td>-119.569704</td>\n",
       "      <td>35.631861</td>\n",
       "      <td>28.639486</td>\n",
       "      <td>2635.763081</td>\n",
       "      <td>537.870553</td>\n",
       "      <td>1425.476744</td>\n",
       "      <td>499.539680</td>\n",
       "      <td>3.870671</td>\n",
       "      <td>206855.816909</td>\n",
       "    </tr>\n",
       "    <tr>\n",
       "      <th>std</th>\n",
       "      <td>2.003532</td>\n",
       "      <td>2.135952</td>\n",
       "      <td>12.585558</td>\n",
       "      <td>2181.615252</td>\n",
       "      <td>421.385070</td>\n",
       "      <td>1132.462122</td>\n",
       "      <td>382.329753</td>\n",
       "      <td>1.899822</td>\n",
       "      <td>115395.615874</td>\n",
       "    </tr>\n",
       "    <tr>\n",
       "      <th>min</th>\n",
       "      <td>-124.350000</td>\n",
       "      <td>32.540000</td>\n",
       "      <td>1.000000</td>\n",
       "      <td>2.000000</td>\n",
       "      <td>1.000000</td>\n",
       "      <td>3.000000</td>\n",
       "      <td>1.000000</td>\n",
       "      <td>0.499900</td>\n",
       "      <td>14999.000000</td>\n",
       "    </tr>\n",
       "    <tr>\n",
       "      <th>25%</th>\n",
       "      <td>-121.800000</td>\n",
       "      <td>33.930000</td>\n",
       "      <td>18.000000</td>\n",
       "      <td>1447.750000</td>\n",
       "      <td>296.000000</td>\n",
       "      <td>787.000000</td>\n",
       "      <td>280.000000</td>\n",
       "      <td>2.563400</td>\n",
       "      <td>119600.000000</td>\n",
       "    </tr>\n",
       "    <tr>\n",
       "      <th>50%</th>\n",
       "      <td>-118.490000</td>\n",
       "      <td>34.260000</td>\n",
       "      <td>29.000000</td>\n",
       "      <td>2127.000000</td>\n",
       "      <td>435.000000</td>\n",
       "      <td>1166.000000</td>\n",
       "      <td>409.000000</td>\n",
       "      <td>3.534800</td>\n",
       "      <td>179700.000000</td>\n",
       "    </tr>\n",
       "    <tr>\n",
       "      <th>75%</th>\n",
       "      <td>-118.010000</td>\n",
       "      <td>37.710000</td>\n",
       "      <td>37.000000</td>\n",
       "      <td>3148.000000</td>\n",
       "      <td>647.000000</td>\n",
       "      <td>1725.000000</td>\n",
       "      <td>605.000000</td>\n",
       "      <td>4.743250</td>\n",
       "      <td>264725.000000</td>\n",
       "    </tr>\n",
       "    <tr>\n",
       "      <th>max</th>\n",
       "      <td>-114.310000</td>\n",
       "      <td>41.950000</td>\n",
       "      <td>52.000000</td>\n",
       "      <td>39320.000000</td>\n",
       "      <td>6445.000000</td>\n",
       "      <td>35682.000000</td>\n",
       "      <td>6082.000000</td>\n",
       "      <td>15.000100</td>\n",
       "      <td>500001.000000</td>\n",
       "    </tr>\n",
       "  </tbody>\n",
       "</table>\n",
       "</div>"
      ],
      "text/plain": [
       "          longitude      latitude  housing_median_age   total_rooms  \\\n",
       "count  20640.000000  20640.000000        20640.000000  20640.000000   \n",
       "mean    -119.569704     35.631861           28.639486   2635.763081   \n",
       "std        2.003532      2.135952           12.585558   2181.615252   \n",
       "min     -124.350000     32.540000            1.000000      2.000000   \n",
       "25%     -121.800000     33.930000           18.000000   1447.750000   \n",
       "50%     -118.490000     34.260000           29.000000   2127.000000   \n",
       "75%     -118.010000     37.710000           37.000000   3148.000000   \n",
       "max     -114.310000     41.950000           52.000000  39320.000000   \n",
       "\n",
       "       total_bedrooms    population    households  median_income  \\\n",
       "count    20433.000000  20640.000000  20640.000000   20640.000000   \n",
       "mean       537.870553   1425.476744    499.539680       3.870671   \n",
       "std        421.385070   1132.462122    382.329753       1.899822   \n",
       "min          1.000000      3.000000      1.000000       0.499900   \n",
       "25%        296.000000    787.000000    280.000000       2.563400   \n",
       "50%        435.000000   1166.000000    409.000000       3.534800   \n",
       "75%        647.000000   1725.000000    605.000000       4.743250   \n",
       "max       6445.000000  35682.000000   6082.000000      15.000100   \n",
       "\n",
       "       median_house_value  \n",
       "count        20640.000000  \n",
       "mean        206855.816909  \n",
       "std         115395.615874  \n",
       "min          14999.000000  \n",
       "25%         119600.000000  \n",
       "50%         179700.000000  \n",
       "75%         264725.000000  \n",
       "max         500001.000000  "
      ]
     },
     "execution_count": 6,
     "metadata": {},
     "output_type": "execute_result"
    }
   ],
   "source": [
    "df.describe()"
   ]
  },
  {
   "cell_type": "markdown",
   "id": "436f0914-9025-4922-af1f-8a5ad7efb4bf",
   "metadata": {},
   "source": [
    "# 1-what is the average of longitude?"
   ]
  },
  {
   "cell_type": "code",
   "execution_count": 7,
   "id": "cf6bc62a-6d35-4270-bcea-aeeb25625473",
   "metadata": {},
   "outputs": [
    {
     "data": {
      "text/plain": [
       "-119.56970445736432"
      ]
     },
     "execution_count": 7,
     "metadata": {},
     "output_type": "execute_result"
    }
   ],
   "source": [
    "df['longitude'].mean()\n",
    "\n"
   ]
  },
  {
   "cell_type": "markdown",
   "id": "945289e5-dc54-4ced-b071-59efcf3e9c4f",
   "metadata": {},
   "source": [
    "# 2-what is the average of latitude?"
   ]
  },
  {
   "cell_type": "code",
   "execution_count": 8,
   "id": "40a8766b-4d8c-4b6e-bd10-6726a738246b",
   "metadata": {},
   "outputs": [
    {
     "data": {
      "text/plain": [
       "35.63186143410853"
      ]
     },
     "execution_count": 8,
     "metadata": {},
     "output_type": "execute_result"
    }
   ],
   "source": [
    "df['latitude'].mean()"
   ]
  },
  {
   "cell_type": "markdown",
   "id": "6d8ff9f3-1a27-45bf-bf7d-bf45fee6b2d0",
   "metadata": {},
   "source": [
    "# 3- what is the longitude the most  repeated ?"
   ]
  },
  {
   "cell_type": "code",
   "execution_count": 9,
   "id": "f9e22cfe-2397-41a0-b5f3-707ec330a7bc",
   "metadata": {},
   "outputs": [
    {
     "data": {
      "text/plain": [
       "-118.31    162\n",
       "-118.30    160\n",
       "-118.29    148\n",
       "-118.27    144\n",
       "-118.32    142\n",
       "          ... \n",
       "-123.54      1\n",
       "-115.94      1\n",
       "-115.99      1\n",
       "-116.81      1\n",
       "-123.71      1\n",
       "Name: longitude, Length: 844, dtype: int64"
      ]
     },
     "execution_count": 9,
     "metadata": {},
     "output_type": "execute_result"
    }
   ],
   "source": [
    "df['longitude'].value_counts()\n"
   ]
  },
  {
   "cell_type": "markdown",
   "id": "470b9eca-795f-4fef-8d4e-24781be84dbc",
   "metadata": {
    "tags": []
   },
   "source": [
    "# what is the maximum of longitude?"
   ]
  },
  {
   "cell_type": "code",
   "execution_count": 10,
   "id": "558e11e7-5d5b-4c3b-868d-13defb090612",
   "metadata": {},
   "outputs": [
    {
     "data": {
      "text/plain": [
       "-114.31"
      ]
     },
     "execution_count": 10,
     "metadata": {},
     "output_type": "execute_result"
    }
   ],
   "source": [
    "df[\"longitude\"].max()"
   ]
  },
  {
   "cell_type": "markdown",
   "id": "7c091f4e-acb7-4763-a14b-f422b76b849e",
   "metadata": {
    "tags": []
   },
   "source": [
    "# 4- what is the minimum of longitude?"
   ]
  },
  {
   "cell_type": "code",
   "execution_count": 11,
   "id": "9159224b-9db1-46aa-bc7d-1d452d9c9bd2",
   "metadata": {},
   "outputs": [
    {
     "data": {
      "text/plain": [
       "-124.35"
      ]
     },
     "execution_count": 11,
     "metadata": {},
     "output_type": "execute_result"
    }
   ],
   "source": [
    "df['longitude'].min()"
   ]
  },
  {
   "cell_type": "markdown",
   "id": "87979cbc-cf0a-4208-99d9-750862ae5596",
   "metadata": {},
   "source": [
    "# what is the latitude the most repeated?"
   ]
  },
  {
   "cell_type": "code",
   "execution_count": 12,
   "id": "b1fd9896-97ea-44ad-b1a2-b9d703643378",
   "metadata": {},
   "outputs": [
    {
     "data": {
      "text/plain": [
       "34.06    244\n",
       "34.05    236\n",
       "34.08    234\n",
       "34.07    231\n",
       "34.04    221\n",
       "        ... \n",
       "41.01      1\n",
       "41.36      1\n",
       "41.13      1\n",
       "40.30      1\n",
       "35.88      1\n",
       "Name: latitude, Length: 862, dtype: int64"
      ]
     },
     "execution_count": 12,
     "metadata": {},
     "output_type": "execute_result"
    }
   ],
   "source": [
    "df[\"latitude\"].value_counts()"
   ]
  },
  {
   "cell_type": "markdown",
   "id": "b28150a7-7cb3-4e94-9490-3892eb7de94e",
   "metadata": {},
   "source": [
    "# 5-what is the maximum latitude?"
   ]
  },
  {
   "cell_type": "code",
   "execution_count": 13,
   "id": "8456a143-fbd0-4519-80f7-65b4d7e3a9d6",
   "metadata": {},
   "outputs": [
    {
     "data": {
      "text/plain": [
       "41.95"
      ]
     },
     "execution_count": 13,
     "metadata": {},
     "output_type": "execute_result"
    }
   ],
   "source": [
    "df[\"latitude\"].max()"
   ]
  },
  {
   "cell_type": "markdown",
   "id": "66ab65ba-1633-4391-b5e1-d1c2e70f27e5",
   "metadata": {},
   "source": [
    "# 6-what is the minimumm of latitude?"
   ]
  },
  {
   "cell_type": "code",
   "execution_count": 14,
   "id": "ca250f96-cb8c-4b80-abf7-6c2a9c91148f",
   "metadata": {},
   "outputs": [
    {
     "data": {
      "text/plain": [
       "32.54"
      ]
     },
     "execution_count": 14,
     "metadata": {},
     "output_type": "execute_result"
    }
   ],
   "source": [
    "df[\"latitude\"].min()"
   ]
  },
  {
   "cell_type": "markdown",
   "id": "9378380b-d633-42c2-bde8-ec2ef122f865",
   "metadata": {},
   "source": [
    "----------------------"
   ]
  },
  {
   "cell_type": "markdown",
   "id": "6045173e-d407-4e8c-809d-eb4ddcf2bac2",
   "metadata": {
    "tags": []
   },
   "source": [
    "# 7-what is  the maximum of total bedrooms?"
   ]
  },
  {
   "cell_type": "code",
   "execution_count": 15,
   "id": "a8322245-6063-4113-ad0e-bd7ab19eb6f7",
   "metadata": {},
   "outputs": [
    {
     "data": {
      "text/plain": [
       "9880     6445.0\n",
       "13139    6210.0\n",
       "10309    5471.0\n",
       "8985     5419.0\n",
       "6057     5290.0\n",
       "Name: total_bedrooms, dtype: float64"
      ]
     },
     "execution_count": 15,
     "metadata": {},
     "output_type": "execute_result"
    }
   ],
   "source": [
    "df[\"total_bedrooms\"].nlargest(5)"
   ]
  },
  {
   "cell_type": "code",
   "execution_count": 16,
   "id": "d71de3e0-8e7b-4bd3-914a-49a525008935",
   "metadata": {},
   "outputs": [],
   "source": [
    "t=df[\"total_bedrooms\"].nlargest(5)\n",
    "\n"
   ]
  },
  {
   "cell_type": "code",
   "execution_count": 17,
   "id": "2c096f35-65bf-4414-8000-e608686cd4e7",
   "metadata": {},
   "outputs": [],
   "source": [
    "t.to_csv(\"largest  total bedrooms.csv\",index=False)"
   ]
  },
  {
   "cell_type": "code",
   "execution_count": 18,
   "id": "5c9571a1-94be-45f8-b731-d57ce4928d5f",
   "metadata": {},
   "outputs": [
    {
     "data": {
      "text/plain": [
       "280.0     55\n",
       "331.0     51\n",
       "345.0     50\n",
       "343.0     49\n",
       "393.0     49\n",
       "          ..\n",
       "2961.0     1\n",
       "1915.0     1\n",
       "1215.0     1\n",
       "3298.0     1\n",
       "1052.0     1\n",
       "Name: total_bedrooms, Length: 1923, dtype: int64"
      ]
     },
     "execution_count": 18,
     "metadata": {},
     "output_type": "execute_result"
    }
   ],
   "source": [
    "df[\"total_bedrooms\"].value_counts()"
   ]
  },
  {
   "cell_type": "code",
   "execution_count": 19,
   "id": "480d2804-2d5a-4bc2-aece-24db2219b958",
   "metadata": {},
   "outputs": [],
   "source": [
    "m=df[\"total_bedrooms\"].value_counts()"
   ]
  },
  {
   "cell_type": "code",
   "execution_count": 20,
   "id": "3ed37209-28b1-4ffa-bfe0-f065ae4ed4df",
   "metadata": {},
   "outputs": [],
   "source": [
    "m.to_csv(\"vco total bedrooms.csv\",index=False)"
   ]
  },
  {
   "cell_type": "code",
   "execution_count": 21,
   "id": "e8f775f3-2545-4616-8f2a-d34f8b58dc73",
   "metadata": {},
   "outputs": [
    {
     "data": {
      "text/plain": [
       "537.8705525375618"
      ]
     },
     "execution_count": 21,
     "metadata": {},
     "output_type": "execute_result"
    }
   ],
   "source": [
    "df[\"total_bedrooms\"].mean()"
   ]
  },
  {
   "cell_type": "code",
   "execution_count": 22,
   "id": "e5fdbe6f-1acf-4598-a716-b40555421fc2",
   "metadata": {},
   "outputs": [
    {
     "data": {
      "text/plain": [
       "1.0"
      ]
     },
     "execution_count": 22,
     "metadata": {},
     "output_type": "execute_result"
    }
   ],
   "source": [
    "df[\"total_bedrooms\"].min()"
   ]
  },
  {
   "cell_type": "markdown",
   "id": "5b43f9d9-834c-4dc6-be5c-8627119f7239",
   "metadata": {},
   "source": [
    "# there is a big diferent in numbers of bedrooms between mean and the max and min and we deduce from this that theres is a big diferent in a standard of living "
   ]
  },
  {
   "cell_type": "markdown",
   "id": "c9f8bf72-eb9e-4a3c-9010-1cf03b58f10e",
   "metadata": {},
   "source": [
    "--------------------"
   ]
  },
  {
   "cell_type": "markdown",
   "id": "fdada3ba-0a95-49af-8106-051edef4f6b8",
   "metadata": {},
   "source": [
    "# i want if  there a relation between total bedrooms and population? "
   ]
  },
  {
   "cell_type": "code",
   "execution_count": 23,
   "id": "30875a2a-8f09-4bc8-ba06-820ade208425",
   "metadata": {},
   "outputs": [
    {
     "data": {
      "text/html": [
       "<div>\n",
       "<style scoped>\n",
       "    .dataframe tbody tr th:only-of-type {\n",
       "        vertical-align: middle;\n",
       "    }\n",
       "\n",
       "    .dataframe tbody tr th {\n",
       "        vertical-align: top;\n",
       "    }\n",
       "\n",
       "    .dataframe thead th {\n",
       "        text-align: right;\n",
       "    }\n",
       "</style>\n",
       "<table border=\"1\" class=\"dataframe\">\n",
       "  <thead>\n",
       "    <tr style=\"text-align: right;\">\n",
       "      <th></th>\n",
       "      <th>total_bedrooms</th>\n",
       "      <th>population</th>\n",
       "    </tr>\n",
       "  </thead>\n",
       "  <tbody>\n",
       "    <tr>\n",
       "      <th>total_bedrooms</th>\n",
       "      <td>1.000000</td>\n",
       "      <td>0.877747</td>\n",
       "    </tr>\n",
       "    <tr>\n",
       "      <th>population</th>\n",
       "      <td>0.877747</td>\n",
       "      <td>1.000000</td>\n",
       "    </tr>\n",
       "  </tbody>\n",
       "</table>\n",
       "</div>"
      ],
      "text/plain": [
       "                total_bedrooms  population\n",
       "total_bedrooms        1.000000    0.877747\n",
       "population            0.877747    1.000000"
      ]
     },
     "execution_count": 23,
     "metadata": {},
     "output_type": "execute_result"
    }
   ],
   "source": [
    "df[[\"total_bedrooms\",\"population\"]].corr()"
   ]
  },
  {
   "cell_type": "markdown",
   "id": "b146668c-3f52-418e-9663-92491ae3c18c",
   "metadata": {},
   "source": [
    "# i found in this question when the households increase the population increase\n",
    "\n"
   ]
  },
  {
   "cell_type": "markdown",
   "id": "79cf191b-5064-406f-932f-51d369084d1f",
   "metadata": {},
   "source": [
    "------------------------------------------------"
   ]
  },
  {
   "cell_type": "markdown",
   "id": "fd19f4e2-cae6-44dd-9dd7-cae6eea6aeaa",
   "metadata": {},
   "source": [
    "# i want to  know  how any  times i want to recieve money that  equal   15.0001 if i want  to  buy the maximum home value and mimimum  and average"
   ]
  },
  {
   "cell_type": "code",
   "execution_count": 54,
   "id": "fdedced8-f7bc-4a79-854a-1c36d100ea82",
   "metadata": {},
   "outputs": [
    {
     "data": {
      "text/plain": [
       "15.0001"
      ]
     },
     "execution_count": 54,
     "metadata": {},
     "output_type": "execute_result"
    }
   ],
   "source": [
    "df[\"median_income\"].max()"
   ]
  },
  {
   "cell_type": "code",
   "execution_count": 55,
   "id": "8b055df4-ca52-4554-a425-fd1889c452da",
   "metadata": {},
   "outputs": [
    {
     "data": {
      "text/plain": [
       "500001.0"
      ]
     },
     "execution_count": 55,
     "metadata": {},
     "output_type": "execute_result"
    }
   ],
   "source": [
    "df[\"median_house_value\"].max()"
   ]
  },
  {
   "cell_type": "code",
   "execution_count": 56,
   "id": "04de1e19-7272-41e8-81e8-cbd88df91054",
   "metadata": {},
   "outputs": [
    {
     "data": {
      "text/plain": [
       "14999.0"
      ]
     },
     "execution_count": 56,
     "metadata": {},
     "output_type": "execute_result"
    }
   ],
   "source": [
    "df[\"median_house_value\"].min()"
   ]
  },
  {
   "cell_type": "code",
   "execution_count": 57,
   "id": "563aa12f-e016-41b0-9d09-9b2fb19f16da",
   "metadata": {},
   "outputs": [
    {
     "data": {
      "text/plain": [
       "206855.81690891474"
      ]
     },
     "execution_count": 57,
     "metadata": {},
     "output_type": "execute_result"
    }
   ],
   "source": [
    "df[\"median_house_value\"].mean()"
   ]
  },
  {
   "cell_type": "code",
   "execution_count": 84,
   "id": "5b1f4eb0-64b9-4022-ab5c-76cb912f8abc",
   "metadata": {},
   "outputs": [],
   "source": [
    "x=df= pd.DataFrame({\"median_house_value\":[500001.0,14999.0,206855.81690891474]})\n"
   ]
  },
  {
   "cell_type": "code",
   "execution_count": 232,
   "id": "b21f26ea-f295-4c30-b396-7f4588ea9151",
   "metadata": {},
   "outputs": [
    {
     "name": "stdout",
     "output_type": "stream",
     "text": [
      "   median_house_value\n",
      "0        33333.177779\n",
      "1          999.926667\n",
      "2        13790.295859\n"
     ]
    }
   ],
   "source": [
    "print(df.div(15.0001))"
   ]
  },
  {
   "cell_type": "code",
   "execution_count": 233,
   "id": "f4581f50-c942-4534-a56b-2c0f51c70fa1",
   "metadata": {},
   "outputs": [],
   "source": [
    "x.to_csv(\"house value.csv\",index=False)"
   ]
  },
  {
   "cell_type": "code",
   "execution_count": 234,
   "id": "a4947cb0",
   "metadata": {},
   "outputs": [],
   "source": [
    "y=df= pd.DataFrame({\"median_house_value\":[33333.177779,999.926667,13790.295859]})\n"
   ]
  },
  {
   "cell_type": "code",
   "execution_count": 220,
   "id": "e0c6b35d-cf47-4c6a-bdac-5babb5132ef5",
   "metadata": {},
   "outputs": [
    {
     "name": "stdout",
     "output_type": "stream",
     "text": [
      "   median_house_value\n",
      "0         2777.764815\n",
      "1           83.327222\n",
      "2         1149.191322\n"
     ]
    }
   ],
   "source": [
    "print(df.div(12))"
   ]
  },
  {
   "cell_type": "code",
   "execution_count": 236,
   "id": "3b919a82-992e-47a5-9167-2cfce6bac8db",
   "metadata": {},
   "outputs": [],
   "source": [
    "y.to_csv(\" div house value.csv\",index=False)"
   ]
  },
  {
   "cell_type": "code",
   "execution_count": 238,
   "id": "993c99dd-9091-4d67-b344-4c3c80fe5ba4",
   "metadata": {},
   "outputs": [],
   "source": [
    "z=df= pd.DataFrame({\"number of years\":[2777.764815,83.327222,1149.191322]})\n"
   ]
  },
  {
   "cell_type": "code",
   "execution_count": 240,
   "id": "d77b1a5a-2441-4258-95b6-e2ae5668dc68",
   "metadata": {},
   "outputs": [
    {
     "name": "stdout",
     "output_type": "stream",
     "text": [
      "   number of years\n",
      "0      2777.764815\n",
      "1        83.327222\n",
      "2      1149.191322\n"
     ]
    }
   ],
   "source": [
    "print(df)"
   ]
  },
  {
   "cell_type": "code",
   "execution_count": 241,
   "id": "bf5c1b26-114e-4323-aec4-16d4218dbab0",
   "metadata": {},
   "outputs": [],
   "source": [
    "z.to_csv(\"years .csv\",index=False)"
   ]
  },
  {
   "cell_type": "markdown",
   "id": "eeb46b1f-4f81-4e44-8f34-73baa83a0d0d",
   "metadata": {
    "tags": []
   },
   "source": [
    "# i conclude that  i want recieve a  15.0001 \n",
    "                                            \n",
    "# 1-a 33333.177779 times to buy the most  expensive\n",
    "# 2-a 999.926667 times to buy the middle\n",
    "# 3-a 13790.295859 times to buy the cheapest "
   ]
  },
  {
   "cell_type": "markdown",
   "id": "15130dab-d2f9-43b6-818e-b220efe41421",
   "metadata": {},
   "source": [
    "# if i  want  to buy ahouse those values (500001.0-14999.0-206855.81690891474)from  median_income  i  want to saving about \n",
    "# 2777.764815 years for max\n",
    "# 83.327222 years for  min\n",
    "# 1149.191322 years for average"
   ]
  },
  {
   "cell_type": "markdown",
   "id": "d025a339-bf65-4a42-87b4-d3b77122ce45",
   "metadata": {},
   "source": [
    "-------------------------"
   ]
  },
  {
   "cell_type": "markdown",
   "id": "8fa5b288-d082-4ca9-8ca3-eb14344dde54",
   "metadata": {},
   "source": [
    "# how many houe have income greater and smaller than the average?"
   ]
  },
  {
   "cell_type": "code",
   "execution_count": 62,
   "id": "42debd1a-5df1-43f0-838a-d9650e9c4649",
   "metadata": {},
   "outputs": [
    {
     "name": "stdout",
     "output_type": "stream",
     "text": [
      "Count of values greater than 3.8706710029069766 in median_income :  8636\n"
     ]
    }
   ],
   "source": [
    "limit=3.8706710029069766\n",
    "column_name=\"median_income\"\n",
    "count = (df[column_name] > limit).sum()\n",
    "print('Count of values greater than 3.8706710029069766 in median_income : ', count)\n",
    "\n"
   ]
  },
  {
   "cell_type": "code",
   "execution_count": 63,
   "id": "fcedba3c-3211-4306-9108-a97a7931a4f6",
   "metadata": {
    "jupyter": {
     "source_hidden": true
    },
    "tags": []
   },
   "outputs": [
    {
     "name": "stdout",
     "output_type": "stream",
     "text": [
      "Count of values smaller than 3.8706710029069766 in median_income :  12004\n"
     ]
    }
   ],
   "source": [
    "limit=3.8706710029069766\n",
    "column_name=\"median_income\"\n",
    "count = (df[column_name] < limit).sum()\n",
    "print('Count of values smaller than 3.8706710029069766 in median_income : ', count)"
   ]
  },
  {
   "cell_type": "markdown",
   "id": "3a42c77e-779f-43f3-aa3f-949db42f0de0",
   "metadata": {},
   "source": [
    "# this mean that the poor people  that there income smaller than 3.8706710029069766 are greater than people than there income greater than 3.8706710029069766 "
   ]
  },
  {
   "cell_type": "markdown",
   "id": "a7e65f23-0908-47c2-ba6f-9f54ed3b9712",
   "metadata": {},
   "source": [
    "------------------"
   ]
  },
  {
   "cell_type": "markdown",
   "id": "cb08f7e0-66ae-4a4f-a211-01c748bf4dff",
   "metadata": {},
   "source": [
    "#  are there a relation between income and population "
   ]
  },
  {
   "cell_type": "code",
   "execution_count": 64,
   "id": "f177af48-cd9e-4107-be80-3e6759bcbf83",
   "metadata": {},
   "outputs": [
    {
     "data": {
      "text/html": [
       "<div>\n",
       "<style scoped>\n",
       "    .dataframe tbody tr th:only-of-type {\n",
       "        vertical-align: middle;\n",
       "    }\n",
       "\n",
       "    .dataframe tbody tr th {\n",
       "        vertical-align: top;\n",
       "    }\n",
       "\n",
       "    .dataframe thead th {\n",
       "        text-align: right;\n",
       "    }\n",
       "</style>\n",
       "<table border=\"1\" class=\"dataframe\">\n",
       "  <thead>\n",
       "    <tr style=\"text-align: right;\">\n",
       "      <th></th>\n",
       "      <th>median_income</th>\n",
       "      <th>population</th>\n",
       "    </tr>\n",
       "  </thead>\n",
       "  <tbody>\n",
       "    <tr>\n",
       "      <th>median_income</th>\n",
       "      <td>1.000000</td>\n",
       "      <td>0.004834</td>\n",
       "    </tr>\n",
       "    <tr>\n",
       "      <th>population</th>\n",
       "      <td>0.004834</td>\n",
       "      <td>1.000000</td>\n",
       "    </tr>\n",
       "  </tbody>\n",
       "</table>\n",
       "</div>"
      ],
      "text/plain": [
       "               median_income  population\n",
       "median_income       1.000000    0.004834\n",
       "population          0.004834    1.000000"
      ]
     },
     "execution_count": 64,
     "metadata": {},
     "output_type": "execute_result"
    }
   ],
   "source": [
    "df[[\"median_income\",\"population\"]].corr()"
   ]
  },
  {
   "cell_type": "markdown",
   "id": "3de3dcda-6ee9-4bb6-b5c1-cc60037023bd",
   "metadata": {},
   "source": [
    "# there is not a relation between increase population and increase income "
   ]
  },
  {
   "cell_type": "markdown",
   "id": "f5c65130-61aa-4fc2-92a7-0b611808824a",
   "metadata": {},
   "source": [
    "-------"
   ]
  },
  {
   "cell_type": "code",
   "execution_count": 66,
   "id": "a12fdd95-427e-4077-890f-f1f4bb9c7031",
   "metadata": {},
   "outputs": [
    {
     "data": {
      "text/html": [
       "<div>\n",
       "<style scoped>\n",
       "    .dataframe tbody tr th:only-of-type {\n",
       "        vertical-align: middle;\n",
       "    }\n",
       "\n",
       "    .dataframe tbody tr th {\n",
       "        vertical-align: top;\n",
       "    }\n",
       "\n",
       "    .dataframe thead th {\n",
       "        text-align: right;\n",
       "    }\n",
       "</style>\n",
       "<table border=\"1\" class=\"dataframe\">\n",
       "  <thead>\n",
       "    <tr style=\"text-align: right;\">\n",
       "      <th></th>\n",
       "      <th>total_rooms</th>\n",
       "      <th>median_house_value</th>\n",
       "    </tr>\n",
       "  </thead>\n",
       "  <tbody>\n",
       "    <tr>\n",
       "      <th>total_rooms</th>\n",
       "      <td>1.000000</td>\n",
       "      <td>0.134153</td>\n",
       "    </tr>\n",
       "    <tr>\n",
       "      <th>median_house_value</th>\n",
       "      <td>0.134153</td>\n",
       "      <td>1.000000</td>\n",
       "    </tr>\n",
       "  </tbody>\n",
       "</table>\n",
       "</div>"
      ],
      "text/plain": [
       "                    total_rooms  median_house_value\n",
       "total_rooms            1.000000            0.134153\n",
       "median_house_value     0.134153            1.000000"
      ]
     },
     "execution_count": 66,
     "metadata": {},
     "output_type": "execute_result"
    }
   ],
   "source": [
    "df[[\"total_rooms\",\"median_house_value\"]].corr()"
   ]
  },
  {
   "cell_type": "code",
   "execution_count": 67,
   "id": "0bf764a3-5de9-4fff-adc6-0aa48272c7aa",
   "metadata": {},
   "outputs": [
    {
     "name": "stderr",
     "output_type": "stream",
     "text": [
      "C:\\Users\\mm748\\AppData\\Local\\Temp\\ipykernel_9116\\1134722465.py:1: FutureWarning: The default value of numeric_only in DataFrame.corr is deprecated. In a future version, it will default to False. Select only valid columns or specify the value of numeric_only to silence this warning.\n",
      "  df.corr()\n"
     ]
    },
    {
     "data": {
      "text/html": [
       "<div>\n",
       "<style scoped>\n",
       "    .dataframe tbody tr th:only-of-type {\n",
       "        vertical-align: middle;\n",
       "    }\n",
       "\n",
       "    .dataframe tbody tr th {\n",
       "        vertical-align: top;\n",
       "    }\n",
       "\n",
       "    .dataframe thead th {\n",
       "        text-align: right;\n",
       "    }\n",
       "</style>\n",
       "<table border=\"1\" class=\"dataframe\">\n",
       "  <thead>\n",
       "    <tr style=\"text-align: right;\">\n",
       "      <th></th>\n",
       "      <th>longitude</th>\n",
       "      <th>latitude</th>\n",
       "      <th>housing_median_age</th>\n",
       "      <th>total_rooms</th>\n",
       "      <th>total_bedrooms</th>\n",
       "      <th>population</th>\n",
       "      <th>households</th>\n",
       "      <th>median_income</th>\n",
       "      <th>median_house_value</th>\n",
       "    </tr>\n",
       "  </thead>\n",
       "  <tbody>\n",
       "    <tr>\n",
       "      <th>longitude</th>\n",
       "      <td>1.000000</td>\n",
       "      <td>-0.924664</td>\n",
       "      <td>-0.108197</td>\n",
       "      <td>0.044568</td>\n",
       "      <td>0.069608</td>\n",
       "      <td>0.099773</td>\n",
       "      <td>0.055310</td>\n",
       "      <td>-0.015176</td>\n",
       "      <td>-0.045967</td>\n",
       "    </tr>\n",
       "    <tr>\n",
       "      <th>latitude</th>\n",
       "      <td>-0.924664</td>\n",
       "      <td>1.000000</td>\n",
       "      <td>0.011173</td>\n",
       "      <td>-0.036100</td>\n",
       "      <td>-0.066983</td>\n",
       "      <td>-0.108785</td>\n",
       "      <td>-0.071035</td>\n",
       "      <td>-0.079809</td>\n",
       "      <td>-0.144160</td>\n",
       "    </tr>\n",
       "    <tr>\n",
       "      <th>housing_median_age</th>\n",
       "      <td>-0.108197</td>\n",
       "      <td>0.011173</td>\n",
       "      <td>1.000000</td>\n",
       "      <td>-0.361262</td>\n",
       "      <td>-0.320451</td>\n",
       "      <td>-0.296244</td>\n",
       "      <td>-0.302916</td>\n",
       "      <td>-0.119034</td>\n",
       "      <td>0.105623</td>\n",
       "    </tr>\n",
       "    <tr>\n",
       "      <th>total_rooms</th>\n",
       "      <td>0.044568</td>\n",
       "      <td>-0.036100</td>\n",
       "      <td>-0.361262</td>\n",
       "      <td>1.000000</td>\n",
       "      <td>0.930380</td>\n",
       "      <td>0.857126</td>\n",
       "      <td>0.918484</td>\n",
       "      <td>0.198050</td>\n",
       "      <td>0.134153</td>\n",
       "    </tr>\n",
       "    <tr>\n",
       "      <th>total_bedrooms</th>\n",
       "      <td>0.069608</td>\n",
       "      <td>-0.066983</td>\n",
       "      <td>-0.320451</td>\n",
       "      <td>0.930380</td>\n",
       "      <td>1.000000</td>\n",
       "      <td>0.877747</td>\n",
       "      <td>0.979728</td>\n",
       "      <td>-0.007723</td>\n",
       "      <td>0.049686</td>\n",
       "    </tr>\n",
       "    <tr>\n",
       "      <th>population</th>\n",
       "      <td>0.099773</td>\n",
       "      <td>-0.108785</td>\n",
       "      <td>-0.296244</td>\n",
       "      <td>0.857126</td>\n",
       "      <td>0.877747</td>\n",
       "      <td>1.000000</td>\n",
       "      <td>0.907222</td>\n",
       "      <td>0.004834</td>\n",
       "      <td>-0.024650</td>\n",
       "    </tr>\n",
       "    <tr>\n",
       "      <th>households</th>\n",
       "      <td>0.055310</td>\n",
       "      <td>-0.071035</td>\n",
       "      <td>-0.302916</td>\n",
       "      <td>0.918484</td>\n",
       "      <td>0.979728</td>\n",
       "      <td>0.907222</td>\n",
       "      <td>1.000000</td>\n",
       "      <td>0.013033</td>\n",
       "      <td>0.065843</td>\n",
       "    </tr>\n",
       "    <tr>\n",
       "      <th>median_income</th>\n",
       "      <td>-0.015176</td>\n",
       "      <td>-0.079809</td>\n",
       "      <td>-0.119034</td>\n",
       "      <td>0.198050</td>\n",
       "      <td>-0.007723</td>\n",
       "      <td>0.004834</td>\n",
       "      <td>0.013033</td>\n",
       "      <td>1.000000</td>\n",
       "      <td>0.688075</td>\n",
       "    </tr>\n",
       "    <tr>\n",
       "      <th>median_house_value</th>\n",
       "      <td>-0.045967</td>\n",
       "      <td>-0.144160</td>\n",
       "      <td>0.105623</td>\n",
       "      <td>0.134153</td>\n",
       "      <td>0.049686</td>\n",
       "      <td>-0.024650</td>\n",
       "      <td>0.065843</td>\n",
       "      <td>0.688075</td>\n",
       "      <td>1.000000</td>\n",
       "    </tr>\n",
       "  </tbody>\n",
       "</table>\n",
       "</div>"
      ],
      "text/plain": [
       "                    longitude  latitude  housing_median_age  total_rooms  \\\n",
       "longitude            1.000000 -0.924664           -0.108197     0.044568   \n",
       "latitude            -0.924664  1.000000            0.011173    -0.036100   \n",
       "housing_median_age  -0.108197  0.011173            1.000000    -0.361262   \n",
       "total_rooms          0.044568 -0.036100           -0.361262     1.000000   \n",
       "total_bedrooms       0.069608 -0.066983           -0.320451     0.930380   \n",
       "population           0.099773 -0.108785           -0.296244     0.857126   \n",
       "households           0.055310 -0.071035           -0.302916     0.918484   \n",
       "median_income       -0.015176 -0.079809           -0.119034     0.198050   \n",
       "median_house_value  -0.045967 -0.144160            0.105623     0.134153   \n",
       "\n",
       "                    total_bedrooms  population  households  median_income  \\\n",
       "longitude                 0.069608    0.099773    0.055310      -0.015176   \n",
       "latitude                 -0.066983   -0.108785   -0.071035      -0.079809   \n",
       "housing_median_age       -0.320451   -0.296244   -0.302916      -0.119034   \n",
       "total_rooms               0.930380    0.857126    0.918484       0.198050   \n",
       "total_bedrooms            1.000000    0.877747    0.979728      -0.007723   \n",
       "population                0.877747    1.000000    0.907222       0.004834   \n",
       "households                0.979728    0.907222    1.000000       0.013033   \n",
       "median_income            -0.007723    0.004834    0.013033       1.000000   \n",
       "median_house_value        0.049686   -0.024650    0.065843       0.688075   \n",
       "\n",
       "                    median_house_value  \n",
       "longitude                    -0.045967  \n",
       "latitude                     -0.144160  \n",
       "housing_median_age            0.105623  \n",
       "total_rooms                   0.134153  \n",
       "total_bedrooms                0.049686  \n",
       "population                   -0.024650  \n",
       "households                    0.065843  \n",
       "median_income                 0.688075  \n",
       "median_house_value            1.000000  "
      ]
     },
     "execution_count": 67,
     "metadata": {},
     "output_type": "execute_result"
    }
   ],
   "source": [
    "df.corr()"
   ]
  },
  {
   "cell_type": "code",
   "execution_count": 68,
   "id": "d14fad71-ad67-476b-8c87-96cb11ddbb20",
   "metadata": {},
   "outputs": [
    {
     "data": {
      "text/html": [
       "<div>\n",
       "<style scoped>\n",
       "    .dataframe tbody tr th:only-of-type {\n",
       "        vertical-align: middle;\n",
       "    }\n",
       "\n",
       "    .dataframe tbody tr th {\n",
       "        vertical-align: top;\n",
       "    }\n",
       "\n",
       "    .dataframe thead th {\n",
       "        text-align: right;\n",
       "    }\n",
       "</style>\n",
       "<table border=\"1\" class=\"dataframe\">\n",
       "  <thead>\n",
       "    <tr style=\"text-align: right;\">\n",
       "      <th></th>\n",
       "      <th>median_income</th>\n",
       "      <th>median_house_value</th>\n",
       "    </tr>\n",
       "  </thead>\n",
       "  <tbody>\n",
       "    <tr>\n",
       "      <th>median_income</th>\n",
       "      <td>1.000000</td>\n",
       "      <td>0.688075</td>\n",
       "    </tr>\n",
       "    <tr>\n",
       "      <th>median_house_value</th>\n",
       "      <td>0.688075</td>\n",
       "      <td>1.000000</td>\n",
       "    </tr>\n",
       "  </tbody>\n",
       "</table>\n",
       "</div>"
      ],
      "text/plain": [
       "                    median_income  median_house_value\n",
       "median_income            1.000000            0.688075\n",
       "median_house_value       0.688075            1.000000"
      ]
     },
     "execution_count": 68,
     "metadata": {},
     "output_type": "execute_result"
    }
   ],
   "source": [
    "df[[\"median_income\",\"median_house_value\"]].corr()"
   ]
  },
  {
   "cell_type": "markdown",
   "id": "e7843642-180c-424e-998c-10396890c649",
   "metadata": {},
   "source": [
    "# median income influnce on house value "
   ]
  },
  {
   "cell_type": "markdown",
   "id": "7cc8490d-3f4d-4358-99d3-ddc82abd54ac",
   "metadata": {},
   "source": [
    "--------------------------------"
   ]
  },
  {
   "cell_type": "code",
   "execution_count": 192,
   "id": "f74d39bd-6899-4e63-8fe7-2fda5ce0fe16",
   "metadata": {},
   "outputs": [
    {
     "data": {
      "text/plain": [
       "1.0"
      ]
     },
     "execution_count": 192,
     "metadata": {},
     "output_type": "execute_result"
    }
   ],
   "source": [
    "df[\"housing_median_age\"].min()"
   ]
  },
  {
   "cell_type": "code",
   "execution_count": 70,
   "id": "b612260c-61ec-4647-802c-09313829866f",
   "metadata": {},
   "outputs": [
    {
     "data": {
      "text/plain": [
       "28.639486434108527"
      ]
     },
     "execution_count": 70,
     "metadata": {},
     "output_type": "execute_result"
    }
   ],
   "source": [
    "df[\"housing_median_age\"].mean()"
   ]
  },
  {
   "cell_type": "code",
   "execution_count": 80,
   "id": "aca45d59-446d-48e6-ad12-62ec8b0f0d02",
   "metadata": {},
   "outputs": [
    {
     "data": {
      "text/plain": [
       "52.0"
      ]
     },
     "execution_count": 80,
     "metadata": {},
     "output_type": "execute_result"
    }
   ],
   "source": [
    "df[\"housing_median_age\"].max()"
   ]
  },
  {
   "cell_type": "code",
   "execution_count": 83,
   "id": "66323212-abf9-4c82-bcaa-80cc826a96d2",
   "metadata": {},
   "outputs": [
    {
     "data": {
      "text/plain": [
       "52.0    1273\n",
       "36.0     862\n",
       "35.0     824\n",
       "16.0     771\n",
       "17.0     698\n",
       "Name: housing_median_age, dtype: int64"
      ]
     },
     "execution_count": 83,
     "metadata": {},
     "output_type": "execute_result"
    }
   ],
   "source": [
    "df[\"housing_median_age\"].value_counts().head(5)"
   ]
  },
  {
   "cell_type": "code",
   "execution_count": 84,
   "id": "c1244ad4-77f0-4707-9fba-95bd4cf49df9",
   "metadata": {},
   "outputs": [
    {
     "name": "stdout",
     "output_type": "stream",
     "text": [
      "housing_median_age  longitude\n",
      "52.0                -122.43      59\n",
      "                    -122.42      51\n",
      "                    -122.41      51\n",
      "                    -122.44      50\n",
      "                    -122.28      41\n",
      "                                 ..\n",
      "21.0                -119.24       1\n",
      "                    -119.27       1\n",
      "                    -119.29       1\n",
      "                    -119.35       1\n",
      "52.0                -116.88       1\n",
      "Length: 11032, dtype: int64\n"
     ]
    }
   ],
   "source": [
    "counts = df.groupby(['housing_median_age','longitude']).size().sort_values(ascending=False)\n",
    "print(counts)\n"
   ]
  },
  {
   "cell_type": "code",
   "execution_count": 85,
   "id": "9e424974-7556-49b2-b2c8-250f5711d13d",
   "metadata": {},
   "outputs": [
    {
     "name": "stdout",
     "output_type": "stream",
     "text": [
      "housing_median_age  latitude\n",
      "52.0                37.77       76\n",
      "                    37.80       66\n",
      "                    37.76       64\n",
      "                    37.79       54\n",
      "                    37.78       54\n",
      "                                ..\n",
      "20.0                37.39        1\n",
      "                    37.37        1\n",
      "                    37.36        1\n",
      "                    37.31        1\n",
      "52.0                41.32        1\n",
      "Length: 10311, dtype: int64\n"
     ]
    }
   ],
   "source": [
    "counts = df.groupby(['housing_median_age','latitude']).size().sort_values(ascending=False)\n",
    "print(counts)"
   ]
  },
  {
   "cell_type": "code",
   "execution_count": 87,
   "id": "878b8ee4-6b64-4fcb-84dd-b04562c71884",
   "metadata": {},
   "outputs": [
    {
     "data": {
      "text/html": [
       "<div>\n",
       "<style scoped>\n",
       "    .dataframe tbody tr th:only-of-type {\n",
       "        vertical-align: middle;\n",
       "    }\n",
       "\n",
       "    .dataframe tbody tr th {\n",
       "        vertical-align: top;\n",
       "    }\n",
       "\n",
       "    .dataframe thead th {\n",
       "        text-align: right;\n",
       "    }\n",
       "</style>\n",
       "<table border=\"1\" class=\"dataframe\">\n",
       "  <thead>\n",
       "    <tr style=\"text-align: right;\">\n",
       "      <th></th>\n",
       "      <th>longitude</th>\n",
       "      <th>latitude</th>\n",
       "      <th>housing_median_age</th>\n",
       "      <th>total_rooms</th>\n",
       "      <th>total_bedrooms</th>\n",
       "      <th>population</th>\n",
       "      <th>households</th>\n",
       "      <th>median_income</th>\n",
       "      <th>median_house_value</th>\n",
       "      <th>ocean_proximity</th>\n",
       "    </tr>\n",
       "  </thead>\n",
       "  <tbody>\n",
       "    <tr>\n",
       "      <th>89</th>\n",
       "      <td>-122.27</td>\n",
       "      <td>37.80</td>\n",
       "      <td>52.0</td>\n",
       "      <td>249.0</td>\n",
       "      <td>78.0</td>\n",
       "      <td>396.0</td>\n",
       "      <td>85.0</td>\n",
       "      <td>1.2434</td>\n",
       "      <td>500001.0</td>\n",
       "      <td>NEAR BAY</td>\n",
       "    </tr>\n",
       "    <tr>\n",
       "      <th>459</th>\n",
       "      <td>-122.25</td>\n",
       "      <td>37.87</td>\n",
       "      <td>52.0</td>\n",
       "      <td>609.0</td>\n",
       "      <td>236.0</td>\n",
       "      <td>1349.0</td>\n",
       "      <td>250.0</td>\n",
       "      <td>1.1696</td>\n",
       "      <td>500001.0</td>\n",
       "      <td>NEAR BAY</td>\n",
       "    </tr>\n",
       "    <tr>\n",
       "      <th>493</th>\n",
       "      <td>-122.24</td>\n",
       "      <td>37.86</td>\n",
       "      <td>52.0</td>\n",
       "      <td>1668.0</td>\n",
       "      <td>225.0</td>\n",
       "      <td>517.0</td>\n",
       "      <td>214.0</td>\n",
       "      <td>7.8521</td>\n",
       "      <td>500001.0</td>\n",
       "      <td>NEAR BAY</td>\n",
       "    </tr>\n",
       "    <tr>\n",
       "      <th>494</th>\n",
       "      <td>-122.24</td>\n",
       "      <td>37.85</td>\n",
       "      <td>52.0</td>\n",
       "      <td>3726.0</td>\n",
       "      <td>474.0</td>\n",
       "      <td>1366.0</td>\n",
       "      <td>496.0</td>\n",
       "      <td>9.3959</td>\n",
       "      <td>500001.0</td>\n",
       "      <td>NEAR BAY</td>\n",
       "    </tr>\n",
       "    <tr>\n",
       "      <th>509</th>\n",
       "      <td>-122.23</td>\n",
       "      <td>37.83</td>\n",
       "      <td>52.0</td>\n",
       "      <td>2990.0</td>\n",
       "      <td>379.0</td>\n",
       "      <td>947.0</td>\n",
       "      <td>361.0</td>\n",
       "      <td>7.8772</td>\n",
       "      <td>500001.0</td>\n",
       "      <td>NEAR BAY</td>\n",
       "    </tr>\n",
       "    <tr>\n",
       "      <th>...</th>\n",
       "      <td>...</td>\n",
       "      <td>...</td>\n",
       "      <td>...</td>\n",
       "      <td>...</td>\n",
       "      <td>...</td>\n",
       "      <td>...</td>\n",
       "      <td>...</td>\n",
       "      <td>...</td>\n",
       "      <td>...</td>\n",
       "      <td>...</td>\n",
       "    </tr>\n",
       "    <tr>\n",
       "      <th>20422</th>\n",
       "      <td>-118.90</td>\n",
       "      <td>34.14</td>\n",
       "      <td>35.0</td>\n",
       "      <td>1503.0</td>\n",
       "      <td>263.0</td>\n",
       "      <td>576.0</td>\n",
       "      <td>216.0</td>\n",
       "      <td>5.1457</td>\n",
       "      <td>500001.0</td>\n",
       "      <td>&lt;1H OCEAN</td>\n",
       "    </tr>\n",
       "    <tr>\n",
       "      <th>20426</th>\n",
       "      <td>-118.69</td>\n",
       "      <td>34.18</td>\n",
       "      <td>11.0</td>\n",
       "      <td>1177.0</td>\n",
       "      <td>138.0</td>\n",
       "      <td>415.0</td>\n",
       "      <td>119.0</td>\n",
       "      <td>10.0472</td>\n",
       "      <td>500001.0</td>\n",
       "      <td>&lt;1H OCEAN</td>\n",
       "    </tr>\n",
       "    <tr>\n",
       "      <th>20427</th>\n",
       "      <td>-118.80</td>\n",
       "      <td>34.19</td>\n",
       "      <td>4.0</td>\n",
       "      <td>15572.0</td>\n",
       "      <td>2222.0</td>\n",
       "      <td>5495.0</td>\n",
       "      <td>2152.0</td>\n",
       "      <td>8.6499</td>\n",
       "      <td>500001.0</td>\n",
       "      <td>&lt;1H OCEAN</td>\n",
       "    </tr>\n",
       "    <tr>\n",
       "      <th>20436</th>\n",
       "      <td>-118.69</td>\n",
       "      <td>34.21</td>\n",
       "      <td>10.0</td>\n",
       "      <td>3663.0</td>\n",
       "      <td>409.0</td>\n",
       "      <td>1179.0</td>\n",
       "      <td>371.0</td>\n",
       "      <td>12.5420</td>\n",
       "      <td>500001.0</td>\n",
       "      <td>&lt;1H OCEAN</td>\n",
       "    </tr>\n",
       "    <tr>\n",
       "      <th>20443</th>\n",
       "      <td>-118.85</td>\n",
       "      <td>34.27</td>\n",
       "      <td>50.0</td>\n",
       "      <td>187.0</td>\n",
       "      <td>33.0</td>\n",
       "      <td>130.0</td>\n",
       "      <td>35.0</td>\n",
       "      <td>3.3438</td>\n",
       "      <td>500001.0</td>\n",
       "      <td>&lt;1H OCEAN</td>\n",
       "    </tr>\n",
       "  </tbody>\n",
       "</table>\n",
       "<p>965 rows × 10 columns</p>\n",
       "</div>"
      ],
      "text/plain": [
       "       longitude  latitude  housing_median_age  total_rooms  total_bedrooms  \\\n",
       "89       -122.27     37.80                52.0        249.0            78.0   \n",
       "459      -122.25     37.87                52.0        609.0           236.0   \n",
       "493      -122.24     37.86                52.0       1668.0           225.0   \n",
       "494      -122.24     37.85                52.0       3726.0           474.0   \n",
       "509      -122.23     37.83                52.0       2990.0           379.0   \n",
       "...          ...       ...                 ...          ...             ...   \n",
       "20422    -118.90     34.14                35.0       1503.0           263.0   \n",
       "20426    -118.69     34.18                11.0       1177.0           138.0   \n",
       "20427    -118.80     34.19                 4.0      15572.0          2222.0   \n",
       "20436    -118.69     34.21                10.0       3663.0           409.0   \n",
       "20443    -118.85     34.27                50.0        187.0            33.0   \n",
       "\n",
       "       population  households  median_income  median_house_value  \\\n",
       "89          396.0        85.0         1.2434            500001.0   \n",
       "459        1349.0       250.0         1.1696            500001.0   \n",
       "493         517.0       214.0         7.8521            500001.0   \n",
       "494        1366.0       496.0         9.3959            500001.0   \n",
       "509         947.0       361.0         7.8772            500001.0   \n",
       "...           ...         ...            ...                 ...   \n",
       "20422       576.0       216.0         5.1457            500001.0   \n",
       "20426       415.0       119.0        10.0472            500001.0   \n",
       "20427      5495.0      2152.0         8.6499            500001.0   \n",
       "20436      1179.0       371.0        12.5420            500001.0   \n",
       "20443       130.0        35.0         3.3438            500001.0   \n",
       "\n",
       "      ocean_proximity  \n",
       "89           NEAR BAY  \n",
       "459          NEAR BAY  \n",
       "493          NEAR BAY  \n",
       "494          NEAR BAY  \n",
       "509          NEAR BAY  \n",
       "...               ...  \n",
       "20422       <1H OCEAN  \n",
       "20426       <1H OCEAN  \n",
       "20427       <1H OCEAN  \n",
       "20436       <1H OCEAN  \n",
       "20443       <1H OCEAN  \n",
       "\n",
       "[965 rows x 10 columns]"
      ]
     },
     "execution_count": 87,
     "metadata": {},
     "output_type": "execute_result"
    }
   ],
   "source": [
    "df[df[\"median_house_value\"].max()==df[\"median_house_value\"]]"
   ]
  },
  {
   "cell_type": "markdown",
   "id": "4e3ac38b-32b3-44f2-877f-e37a10e8a151",
   "metadata": {},
   "source": [
    "# I concluded that the most common age for homes is 52, which is more common between this longitude(122.43,122.42,122.41,122.44)and latitude (37.77,37.80,37.76,37.79)\n"
   ]
  },
  {
   "cell_type": "markdown",
   "id": "bf1a6e29-cb64-49d7-b097-6520ac1fe278",
   "metadata": {},
   "source": [
    "------------"
   ]
  },
  {
   "cell_type": "markdown",
   "id": "cb9a64c8-3fa2-4ee5-9fab-3cb6e19bb2e5",
   "metadata": {},
   "source": [
    "# what is the most number  repeated in longitude  and  latitude? "
   ]
  },
  {
   "cell_type": "code",
   "execution_count": 78,
   "id": "f306506f-64b6-4604-8f30-26c71c6f8aec",
   "metadata": {},
   "outputs": [
    {
     "data": {
      "text/plain": [
       "-118.31    162\n",
       "-118.30    160\n",
       "-118.29    148\n",
       "-118.27    144\n",
       "-118.32    142\n",
       "          ... \n",
       "-123.54      1\n",
       "-115.94      1\n",
       "-115.99      1\n",
       "-116.81      1\n",
       "-123.71      1\n",
       "Name: longitude, Length: 844, dtype: int64"
      ]
     },
     "execution_count": 78,
     "metadata": {},
     "output_type": "execute_result"
    }
   ],
   "source": [
    "df[\"longitude\"].value_counts()"
   ]
  },
  {
   "cell_type": "code",
   "execution_count": 132,
   "id": "aefe774a-5918-48c0-b282-97b0c93b6d3e",
   "metadata": {},
   "outputs": [],
   "source": [
    "df.to_csv(\"H5mme.csv\",index=False)"
   ]
  },
  {
   "cell_type": "code",
   "execution_count": 75,
   "id": "a4c05f2a-74c4-48e8-b746-744b991c5b6d",
   "metadata": {},
   "outputs": [
    {
     "data": {
      "text/plain": [
       "0   -118.31\n",
       "Name: longitude, dtype: float64"
      ]
     },
     "execution_count": 75,
     "metadata": {},
     "output_type": "execute_result"
    }
   ],
   "source": [
    "df[\"longitude\"].mode()"
   ]
  },
  {
   "cell_type": "code",
   "execution_count": 79,
   "id": "aa704c18-ebb4-4a08-9165-dc89084a0462",
   "metadata": {},
   "outputs": [
    {
     "data": {
      "text/plain": [
       "34.06    244\n",
       "34.05    236\n",
       "34.08    234\n",
       "34.07    231\n",
       "34.04    221\n",
       "        ... \n",
       "41.01      1\n",
       "41.36      1\n",
       "41.13      1\n",
       "40.30      1\n",
       "35.88      1\n",
       "Name: latitude, Length: 862, dtype: int64"
      ]
     },
     "execution_count": 79,
     "metadata": {},
     "output_type": "execute_result"
    }
   ],
   "source": [
    "df[\"latitude\"].value_counts()"
   ]
  },
  {
   "cell_type": "code",
   "execution_count": 77,
   "id": "df53b31b-a7f8-470b-8196-6e6bd97a9384",
   "metadata": {},
   "outputs": [
    {
     "data": {
      "text/plain": [
       "0    34.06\n",
       "Name: latitude, dtype: float64"
      ]
     },
     "execution_count": 77,
     "metadata": {},
     "output_type": "execute_result"
    }
   ],
   "source": [
    "df[\"latitude\"].mode()"
   ]
  },
  {
   "cell_type": "code",
   "execution_count": 193,
   "id": "df3efbba-f5cf-4b36-9160-192477798b8c",
   "metadata": {},
   "outputs": [],
   "source": [
    "df.to_csv(\"mme.csv\",index=False)"
   ]
  },
  {
   "cell_type": "markdown",
   "id": "59d95433-9429-4145-8e65-471c0a4281ed",
   "metadata": {
    "tags": []
   },
   "source": [
    "# I concluded that the area between the lines of longitude and latitude that is more frequent is the area that attracts the most people"
   ]
  },
  {
   "cell_type": "markdown",
   "id": "0dbe7c27-aab9-4c8f-bb71-3e378f2de4c8",
   "metadata": {},
   "source": [
    "-------------------------------"
   ]
  },
  {
   "cell_type": "markdown",
   "id": "cada2345-7b96-49ab-9de4-f2f3377374ec",
   "metadata": {},
   "source": [
    "# counts of ocean proximity"
   ]
  },
  {
   "cell_type": "code",
   "execution_count": 167,
   "id": "78678afb-6724-43ea-8be8-33f1e67db557",
   "metadata": {},
   "outputs": [
    {
     "data": {
      "text/plain": [
       "<1H OCEAN     9136\n",
       "INLAND        6551\n",
       "NEAR OCEAN    2658\n",
       "NEAR BAY      2290\n",
       "ISLAND           5\n",
       "Name: ocean_proximity, dtype: int64"
      ]
     },
     "execution_count": 168,
     "metadata": {},
     "output_type": "execute_result"
    }
   ],
   "source": [
    "df[\"ocean_proximity\"].value_counts()"
   ]
  },
  {
   "cell_type": "markdown",
   "id": "7e92e8e7-ae42-4473-bf8e-69fbad12e171",
   "metadata": {},
   "source": [
    "-------------------------------"
   ]
  },
  {
   "cell_type": "markdown",
   "id": "ae57ec3a-c8d3-4848-ad05-2cc085378689",
   "metadata": {},
   "source": [
    "# what is the sum of population & total bedrooms & total rooms?"
   ]
  },
  {
   "cell_type": "code",
   "execution_count": 29,
   "id": "76751c7c-4eff-4068-88b4-fb588e5ac40d",
   "metadata": {},
   "outputs": [
    {
     "data": {
      "text/plain": [
       "29421840.0"
      ]
     },
     "execution_count": 29,
     "metadata": {},
     "output_type": "execute_result"
    }
   ],
   "source": [
    "df[\"population\"].sum()"
   ]
  },
  {
   "cell_type": "code",
   "execution_count": 27,
   "id": "e4072185-f59b-4a5b-9c23-d6c46f119b22",
   "metadata": {},
   "outputs": [
    {
     "data": {
      "text/plain": [
       "54402150.0"
      ]
     },
     "execution_count": 27,
     "metadata": {},
     "output_type": "execute_result"
    }
   ],
   "source": [
    "df[\"total_rooms\"].sum()"
   ]
  },
  {
   "cell_type": "code",
   "execution_count": 28,
   "id": "f932f550-74b8-4b47-84fb-16ff99d1afd8",
   "metadata": {},
   "outputs": [
    {
     "data": {
      "text/plain": [
       "10990309.0"
      ]
     },
     "execution_count": 28,
     "metadata": {},
     "output_type": "execute_result"
    }
   ],
   "source": [
    "df[\"total_bedrooms\"].sum()"
   ]
  },
  {
   "cell_type": "code",
   "execution_count": null,
   "id": "26533709-f3b9-44f2-b772-d79f9caf8184",
   "metadata": {},
   "outputs": [],
   "source": []
  }
 ],
 "metadata": {
  "kernelspec": {
   "display_name": "Python 3 (ipykernel)",
   "language": "python",
   "name": "python3"
  },
  "language_info": {
   "codemirror_mode": {
    "name": "ipython",
    "version": 3
   },
   "file_extension": ".py",
   "mimetype": "text/x-python",
   "name": "python",
   "nbconvert_exporter": "python",
   "pygments_lexer": "ipython3",
   "version": "3.10.9"
  }
 },
 "nbformat": 4,
 "nbformat_minor": 5
}
